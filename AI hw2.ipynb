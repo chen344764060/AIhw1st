{
 "cells": [
  {
   "cell_type": "markdown",
   "metadata": {},
   "source": [
    "# Theory Q"
   ]
  },
  {
   "cell_type": "markdown",
   "metadata": {},
   "source": [
    "第一题"
   ]
  },
  {
   "cell_type": "markdown",
   "metadata": {},
   "source": [
    "if (want to watch a movie) then go through; \n",
    "\n",
    "else then exit; \n",
    "\n",
    "if (have ticket) then go to the hell;\n",
    "\n",
    "else then buy ticket;\n",
    "\n",
    "do{find the seat; }while(wrong seat)\n",
    "\n",
    "watch movie;"
   ]
  },
  {
   "cell_type": "markdown",
   "metadata": {},
   "source": [
    "第二题"
   ]
  },
  {
   "cell_type": "markdown",
   "metadata": {},
   "source": [
    "farmer and duck cross the river; \n",
    "\n",
    "farmer back; \n",
    "\n",
    "farmer and corn cross the river; \n",
    "\n",
    "farmer and dark back; \n",
    "\n",
    "farmer and wolf cross the river; \n",
    "\n",
    "famer back; \n",
    "\n",
    "famer and duck cross the river;"
   ]
  },
  {
   "cell_type": "markdown",
   "metadata": {},
   "source": [
    "第三题"
   ]
  },
  {
   "cell_type": "markdown",
   "metadata": {},
   "source": [
    "function S IMPLE -P ROBLEM -S OLVING -A GENT (percept) returns an action \n",
    "\n",
    "persistent: seq, an action sequence, initially empty \n",
    "\n",
    "state, some description of the current world state\n",
    "\n",
    "goal, a goal, initially null \n",
    "\n",
    "problem, a problem formulation \n",
    "\n",
    "state ←U PDATE -S TATE (state,percept) \n",
    "\n",
    "if seq is empty then \n",
    "\n",
    "goal ←F ORMULATE -G OAL (state) \n",
    "\n",
    "problem ←F ORMULATE -P ROBLEM (state,goal) \n",
    "\n",
    "seq ←S EARCH (problem) \n",
    "\n",
    "if seq = failure then return a null action \n",
    "\n",
    "action ←F IRST (seq) \n",
    "\n",
    "seq ←R EST (seq) \n",
    "\n",
    "return action"
   ]
  },
  {
   "cell_type": "markdown",
   "metadata": {},
   "source": [
    "第四题"
   ]
  },
  {
   "cell_type": "markdown",
   "metadata": {},
   "source": [
    "1. A-B-C-D-E-F-H-G-I-K\n",
    "2. A-B-C-E-F-D-H-I-K"
   ]
  },
  {
   "cell_type": "markdown",
   "metadata": {},
   "source": [
    "第五题"
   ]
  },
  {
   "cell_type": "markdown",
   "metadata": {},
   "source": []
  },
  {
   "cell_type": "markdown",
   "metadata": {},
   "source": [
    "# Programming Excercises"
   ]
  },
  {
   "cell_type": "markdown",
   "metadata": {},
   "source": [
    "第一题"
   ]
  },
  {
   "cell_type": "code",
   "execution_count": 8,
   "metadata": {},
   "outputs": [
    {
     "name": "stdout",
     "output_type": "stream",
     "text": [
      "input head number: 35\n",
      "input leg number: 94\n",
      "There are 23 chickens and 12 ribbits.\n"
     ]
    }
   ],
   "source": [
    "a = int(input(\"input head number: \"))\n",
    "b = int(input(\"input leg number: \"))\n",
    "y = b/2 - a;\n",
    "x = a - y;\n",
    "print(\"There are \"+str(int(x))+\" chickens and \"+str(int(y))+\" ribbits.\")"
   ]
  },
  {
   "cell_type": "markdown",
   "metadata": {},
   "source": [
    "第二题"
   ]
  },
  {
   "cell_type": "code",
   "execution_count": 47,
   "metadata": {},
   "outputs": [
    {
     "name": "stdout",
     "output_type": "stream",
     "text": [
      "\n",
      "\n",
      "depth search first:\n",
      "    you  bob  anuj  prggy  alice  claire  jonny  thom  \n"
     ]
    }
   ],
   "source": [
    "from collections import deque\n",
    "import sys\n",
    "\n",
    "class Graph(object):\n",
    "    def __init__(self, *args, **kwargs):\n",
    "        self.order = []\n",
    "        self.neighbor = {}\n",
    "\n",
    "    def add_node(self, node):\n",
    "        key,val = node\n",
    "        if not isinstance(val, list):\n",
    "            print('node value should be a list')        \n",
    "\n",
    "        self.neighbor[key] = val\n",
    "\n",
    "    def depth_first(self, root):\n",
    "        if root != None:\n",
    "            search_queue = deque()\n",
    "            search_queue.append(root)\n",
    "            visited = []\n",
    "        else:\n",
    "            print('root is None')\n",
    "            return -1\n",
    "        while search_queue:\n",
    "            person = search_queue.popleft()\n",
    "            self.order.append(person)\n",
    "            if (not person in visited) and (person in self.neighbor.keys()):\n",
    "                tmp = self.neighbor[person]\n",
    "                tmp.reverse()\n",
    "                for index in tmp:\n",
    "                    search_queue.appendleft(index)\n",
    "\n",
    "                visited.append(person)\n",
    " \n",
    "    def clear(self):\n",
    "        self.order = []\n",
    "\n",
    "    def node_print(self):\n",
    "        for index in self.order:\n",
    "            print(index, end='  ') \n",
    "\n",
    "if __name__ == '__main__':\n",
    "    g = Graph()\n",
    "    g.add_node(('you',['bob', 'alice','claire']))\n",
    "    g.add_node(('bob',['anuj','prggy']))\n",
    "    g.add_node(('claire',['jonny','thom']))\n",
    "\n",
    "    print('\\n\\ndepth search first:') \n",
    "    print('  ', end='  ')\n",
    "    g.depth_first('you')\n",
    "    g.node_print()\n",
    "    print() "
   ]
  },
  {
   "cell_type": "markdown",
   "metadata": {},
   "source": [
    "第三题"
   ]
  },
  {
   "cell_type": "code",
   "execution_count": 2,
   "metadata": {},
   "outputs": [
    {
     "name": "stdout",
     "output_type": "stream",
     "text": [
      "c:\\\\Windows10Upgrade\\appraiserxp.dll\n",
      "c:\\\\Windows10Upgrade\\cosquery.dll\n",
      "c:\\\\Windows10Upgrade\\DevInv.dll\n",
      "c:\\\\Windows10Upgrade\\downloader.dll\n",
      "c:\\\\Windows10Upgrade\\ESDHelper.dll\n",
      "c:\\\\Windows10Upgrade\\esdstub.dll\n",
      "c:\\\\Windows10Upgrade\\GetCurrentDeploy.dll\n",
      "c:\\\\Windows10Upgrade\\GetCurrentOOBE.dll\n",
      "c:\\\\Windows10Upgrade\\wimgapi.dll\n",
      "c:\\\\Windows10Upgrade\\windlp.dll\n",
      "c:\\\\Windows10Upgrade\\dll2\\webservices.dll\n",
      "c:\\\\Windows10Upgrade\\dll1\\cosqueryxp.dll\n",
      "c:\\\\Windows10Upgrade\\dll1\\wdscore.dll\n",
      "c:\\\\Windows10Upgrade\\dll1\\webservices.dll\n"
     ]
    }
   ],
   "source": [
    "import os\n",
    "class depth:\n",
    "    def __init__(self,path):\n",
    "        self.path = path\n",
    "        self.MyList =[]\n",
    "        self.MyList.append(self.path)\n",
    "\n",
    "    def BianLi(self):\n",
    "        while len(self.MyList) !=0:\n",
    "            path =self.MyList.pop()\n",
    "            if os.path.isdir(path):\n",
    "                myFileList =os.listdir(path)\n",
    "                for line in myFileList:\n",
    "                    myPath =path+\"\\\\\"+line\n",
    "                    if os.path.isdir(myPath):\n",
    "                        self.MyList.append(myPath)\n",
    "                    else:\n",
    "                         if os.path.splitext(myPath)[-1]==\".dll\":\n",
    "                                print(myPath)\n",
    "            else:\n",
    "                 if os.path.splitext(path)[-1]==\".dll\":\n",
    "                                print(path)\n",
    "    def __del__(self):\n",
    "\n",
    "        pass\n",
    "path =r\"c:\\\\Windows10Upgrade\"\n",
    "file =depth(path)\n",
    "file.BianLi()"
   ]
  },
  {
   "cell_type": "markdown",
   "metadata": {},
   "source": [
    "第四题"
   ]
  },
  {
   "cell_type": "code",
   "execution_count": 46,
   "metadata": {},
   "outputs": [
    {
     "name": "stdout",
     "output_type": "stream",
     "text": [
      "c:\\\\Windows10Upgrade\\appraiserxp.dll\n",
      "c:\\\\Windows10Upgrade\\cosquery.dll\n",
      "c:\\\\Windows10Upgrade\\DevInv.dll\n",
      "c:\\\\Windows10Upgrade\\downloader.dll\n",
      "c:\\\\Windows10Upgrade\\ESDHelper.dll\n",
      "c:\\\\Windows10Upgrade\\esdstub.dll\n",
      "c:\\\\Windows10Upgrade\\GetCurrentDeploy.dll\n",
      "c:\\\\Windows10Upgrade\\GetCurrentOOBE.dll\n",
      "c:\\\\Windows10Upgrade\\wimgapi.dll\n",
      "c:\\\\Windows10Upgrade\\windlp.dll\n",
      "c:\\\\Windows10Upgrade\\dll1\\cosqueryxp.dll\n",
      "c:\\\\Windows10Upgrade\\dll1\\wdscore.dll\n",
      "c:\\\\Windows10Upgrade\\dll1\\webservices.dll\n",
      "c:\\\\Windows10Upgrade\\dll2\\webservices.dll\n"
     ]
    }
   ],
   "source": [
    "import os\n",
    "from collections import deque\n",
    "class bread:\n",
    "    def __init__(self,path):\n",
    "        self.path =path \n",
    "        self.MyList =deque([])#\n",
    "        self.MyList.append(self.path)\n",
    "\n",
    "    def  BianLi(self):\n",
    "        \"广度遍历的方法实现\"\n",
    "        while len(self.MyList) !=0:#\n",
    "            path =self.MyList.popleft()\n",
    "            if os.path.isdir(path):\n",
    "                myFilePath =os.listdir(path)\n",
    "                for line in myFilePath:\n",
    "                    myPath =path +\"\\\\\"+line\n",
    "                    if os.path.isdir(myPath):\n",
    "                        self.MyList.append(myPath)\n",
    "                    else:\n",
    "                        if os.path.splitext(myPath)[-1]==\".dll\":\n",
    "                                print(myPath)                  \n",
    "            else:\n",
    "                 if os.path.splitext(path)[-1]==\".dll\":\n",
    "                                 print(path)\n",
    "    def __del__(self):\n",
    "  \n",
    "        pass\n",
    "path =r\"c:\\\\Windows10Upgrade\"#遍历整个c盘时，有文件拒绝访问故缩小遍历范围\n",
    "file =bread(path)#实例化一个对象\n",
    "file.BianLi()#对象调用方法"
   ]
  },
  {
   "cell_type": "markdown",
   "metadata": {},
   "source": [
    "第五题"
   ]
  },
  {
   "cell_type": "code",
   "execution_count": 66,
   "metadata": {},
   "outputs": [
    {
     "name": "stdout",
     "output_type": "stream",
     "text": [
      "85\n",
      "Cost is 53.0\n"
     ]
    }
   ],
   "source": [
    "x=2\n",
    "c=0\n",
    "c=x/2\n",
    "x=2*x+1\n",
    "c=c+x\n",
    "x=2*x\n",
    "c=c+x/2\n",
    "x=2*x+1\n",
    "c=c+x\n",
    "x=2*x\n",
    "c=c+x/2\n",
    "x=2*x+1\n",
    "print(x)\n",
    "print(\"Cost is \"+str(c))"
   ]
  },
  {
   "cell_type": "markdown",
   "metadata": {},
   "source": [
    "第六题"
   ]
  },
  {
   "cell_type": "code",
   "execution_count": 70,
   "metadata": {},
   "outputs": [
    {
     "name": "stdout",
     "output_type": "stream",
     "text": [
      "path length is 5\n",
      "searched squares count is 19\n",
      "   *  .\n",
      "  *#* .\n",
      " S # E.\n",
      "   #...\n",
      ".......\n"
     ]
    }
   ],
   "source": [
    "import math\n",
    "\n",
    "tm = [\n",
    "'.......',\n",
    "'...#...',\n",
    "'.S.#.E.',\n",
    "'...#...',\n",
    "'.......']\n",
    "\n",
    "test_map = []\n",
    "\n",
    "class Node_Elem:\n",
    "    \"\"\"\n",
    "    开放列表和关闭列表的元素类型，parent用来在成功的时候回溯路径\n",
    "    \"\"\"\n",
    "    def __init__(self, parent, x, y, dist):\n",
    "        self.parent = parent\n",
    "        self.x = x\n",
    "        self.y = y\n",
    "        self.dist = dist\n",
    "        \n",
    "class A_Star:\n",
    "    def __init__(self, s_x, s_y, e_x, e_y, w=6, h=4):\n",
    "        self.s_x = s_x\n",
    "        self.s_y = s_y\n",
    "        self.e_x = e_x\n",
    "        self.e_y = e_y\n",
    "        \n",
    "        self.width = w\n",
    "        self.height = h\n",
    "        \n",
    "        self.open = []\n",
    "        self.close = []\n",
    "        self.path = []\n",
    "        \n",
    "    def find_path(self):\n",
    "        #构建开始节点\n",
    "        p = Node_Elem(None, self.s_x, self.s_y, 0.0)\n",
    "        while True:\n",
    "            #扩展F值最小的节点\n",
    "            self.extend_round(p)\n",
    "            #如果开放列表为空，则不存在路径，返回\n",
    "            if not self.open:\n",
    "                return\n",
    "            #获取F值最小的节点\n",
    "            idx, p = self.get_best()\n",
    "            #找到路径，生成路径，返回\n",
    "            if self.is_target(p):\n",
    "                self.make_path(p)\n",
    "                return\n",
    "            self.close.append(p)\n",
    "            del self.open[idx]\n",
    "            \n",
    "    def make_path(self,p):\n",
    "        while p:\n",
    "            self.path.append((p.x, p.y))\n",
    "            p = p.parent\n",
    "        \n",
    "    def is_target(self, i):\n",
    "        return i.x == self.e_x and i.y == self.e_y\n",
    "        \n",
    "    def get_best(self):\n",
    "        best = None\n",
    "        bv = 1000000\n",
    "        bi = -1\n",
    "        for idx, i in enumerate(self.open):\n",
    "            value = self.get_dist(i)#获取F值\n",
    "            if value < bv:\n",
    "                best = i\n",
    "                bv = value\n",
    "                bi = idx\n",
    "        return bi, best\n",
    "        \n",
    "    def get_dist(self, i):\n",
    "        # F = G + H\n",
    "        # G 为已经走过的路径长度， H为还要走多远\n",
    "        return i.dist + math.sqrt(\n",
    "            (self.e_x-i.x)*(self.e_x-i.x)\n",
    "            + (self.e_y-i.y)*(self.e_y-i.y))*1.2\n",
    "        \n",
    "    def extend_round(self, p):\n",
    "        #可以从8个方向走\n",
    "        xs = (-1, 0, 1, -1, 1, -1, 0, 1)\n",
    "        ys = (-1,-1,-1,  0, 0,  1, 1, 1)\n",
    "        for x, y in zip(xs, ys):\n",
    "            new_x, new_y = x + p.x, y + p.y\n",
    "            #无效或者不可行走区域，则勿略\n",
    "            if not self.is_valid_coord(new_x, new_y):\n",
    "                continue\n",
    "            #构造新的节点\n",
    "            node = Node_Elem(p, new_x, new_y, p.dist+self.get_cost(\n",
    "                        p.x, p.y, new_x, new_y))\n",
    "            #新节点在关闭列表，则忽略\n",
    "            if self.node_in_close(node):\n",
    "                continue\n",
    "            i = self.node_in_open(node)\n",
    "            if i != -1:\n",
    "                #新节点在开放列表\n",
    "                if self.open[i].dist > node.dist:\n",
    "                    self.open[i].parent = p\n",
    "                    self.open[i].dist = node.dist\n",
    "                continue\n",
    "            self.open.append(node)\n",
    "            \n",
    "    def get_cost(self, x1, y1, x2, y2):\n",
    "        if x1 == x2 or y1 == y2:\n",
    "            return 1.0\n",
    "        return 1.4\n",
    "        \n",
    "    def node_in_close(self, node):\n",
    "        for i in self.close:\n",
    "            if node.x == i.x and node.y == i.y:\n",
    "                return True\n",
    "        return False\n",
    "        \n",
    "    def node_in_open(self, node):\n",
    "        for i, n in enumerate(self.open):\n",
    "            if node.x == n.x and node.y == n.y:\n",
    "                return i\n",
    "        return -1\n",
    "        \n",
    "    def is_valid_coord(self, x, y):\n",
    "        if x < 0 or x >= self.width or y < 0 or y >= self.height:\n",
    "            return False\n",
    "        return test_map[y][x] != '#'\n",
    "    \n",
    "    def get_searched(self):\n",
    "        l = []\n",
    "        for i in self.open:\n",
    "            l.append((i.x, i.y))\n",
    "        for i in self.close:\n",
    "            l.append((i.x, i.y))\n",
    "        return l\n",
    "        \n",
    "def print_test_map():\n",
    "    for line in test_map:\n",
    "         print (''.join(line))\n",
    "\n",
    " \n",
    "def get_start_XY():\n",
    "    return get_symbol_XY('S')\n",
    "    \n",
    "def get_end_XY():\n",
    "    return get_symbol_XY('E')\n",
    "    \n",
    "def get_symbol_XY(s):\n",
    "    for y, line in enumerate(test_map):\n",
    "        try:\n",
    "            x = line.index(s)\n",
    "        except:\n",
    "            continue\n",
    "        else:\n",
    "            break\n",
    "    return x, y\n",
    "def mark_path(l):\n",
    "    mark_symbol(l, '*')\n",
    "    \n",
    "def mark_searched(l):\n",
    "    mark_symbol(l, ' ')\n",
    "    \n",
    "def mark_symbol(l, s):\n",
    "    for x, y in l:\n",
    "        test_map[y][x] = s\n",
    "    \n",
    "def mark_start_end(s_x, s_y, e_x, e_y):\n",
    "    test_map[s_y][s_x] = 'S'\n",
    "    test_map[e_y][e_x] = 'E'\n",
    "    \n",
    "def tm_to_test_map():\n",
    "    for line in tm:\n",
    "        test_map.append(list(line))\n",
    "        \n",
    "def find_path():\n",
    "    s_x, s_y = get_start_XY()\n",
    "    e_x, e_y = get_end_XY()\n",
    "    a_star = A_Star(s_x, s_y, e_x, e_y)\n",
    "    a_star.find_path()\n",
    "    searched = a_star.get_searched()\n",
    "    path = a_star.path\n",
    "    mark_searched(searched)\n",
    "    mark_path(path)\n",
    "    print (\"path length is %d\"%(len(path)))\n",
    "    print (\"searched squares count is %d\"%(len(searched)))\n",
    "    mark_start_end(s_x, s_y, e_x, e_y)\n",
    "    \n",
    "if __name__ == \"__main__\":\n",
    "    tm_to_test_map()\n",
    "    find_path()\n",
    "    print_test_map()\n"
   ]
  }
 ],
 "metadata": {
  "kernelspec": {
   "display_name": "Python 3",
   "language": "python",
   "name": "python3"
  },
  "language_info": {
   "codemirror_mode": {
    "name": "ipython",
    "version": 3
   },
   "file_extension": ".py",
   "mimetype": "text/x-python",
   "name": "python",
   "nbconvert_exporter": "python",
   "pygments_lexer": "ipython3",
   "version": "3.6.5"
  }
 },
 "nbformat": 4,
 "nbformat_minor": 2
}
