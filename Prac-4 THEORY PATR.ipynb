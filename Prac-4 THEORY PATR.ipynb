{
 "cells": [
  {
   "cell_type": "markdown",
   "metadata": {},
   "source": [
    "Theory Questions"
   ]
  },
  {
   "cell_type": "markdown",
   "metadata": {},
   "source": [
    "Q1"
   ]
  },
  {
   "cell_type": "markdown",
   "metadata": {},
   "source": [
    "1.let H(x) x is a people, F(x) is x with black hair symbolization as x(M(x)=F(x)) assume a is girl with blonde hair, then M(a) is true, F(a) is false. so M(a)=>F(a) is false the answer is false.\n",
    "\n",
    "2.let G(x) x means one who have boarded the moon. assume someone do have boarded the moon once. therefore M(a)^G(a) is true the propotion is true.\n",
    "\n",
    "3.Assume that H(x) means x boarded the jupiter symbolization is -x(M(x)^H(x)) as nobody ever boarded the jupiter so far therefore the statement x(M(x)^H(x)) is false the propositional is true.\n",
    "\n",
    "4.Assume F(x) x is a student study in us, G(x) means x is asian then the symbolization is -x(F(x))=G(x) the proposition is true."
   ]
  },
  {
   "cell_type": "markdown",
   "metadata": {},
   "source": [
    "Q2"
   ]
  },
  {
   "cell_type": "markdown",
   "metadata": {},
   "source": [
    "1.Tautology\n",
    "\n",
    "2.Contradiction\n",
    "\n",
    "3.None of both"
   ]
  },
  {
   "cell_type": "markdown",
   "metadata": {},
   "source": [
    "Q3"
   ]
  },
  {
   "cell_type": "markdown",
   "metadata": {},
   "source": [
    "1.False\n",
    "\n",
    "2.True\n",
    "\n",
    "3.True\n",
    "\n",
    "4.True\n",
    "\n",
    "5.False"
   ]
  },
  {
   "cell_type": "markdown",
   "metadata": {},
   "source": [
    "Q4"
   ]
  },
  {
   "cell_type": "markdown",
   "metadata": {},
   "source": [
    "P^(Q=>R)=>S -(P^(-Q∨R))∨S -(PV-(-Q∨R))∨S -(PV-(--Q^-R))∨S -(PV-(Q^-R))∨S -PVSV(Q^-R) (-PVSVQ)^(-PVSV-R)"
   ]
  },
  {
   "cell_type": "markdown",
   "metadata": {},
   "source": [
    "Q5"
   ]
  },
  {
   "cell_type": "markdown",
   "metadata": {},
   "source": [
    "1.∀ x Even(x) <=> ∃ y x=y+y\n",
    "\n",
    "2.∀x Prime(x)<=> ∀y, zx=y xz =>y=1vz=1\n",
    "\n",
    "3.∀x Even(x) =>∃ y,z Prime(y)^Prime(z)^x=y+z"
   ]
  },
  {
   "cell_type": "code",
   "execution_count": null,
   "metadata": {},
   "outputs": [],
   "source": []
  }
 ],
 "metadata": {
  "kernelspec": {
   "display_name": "Python 3",
   "language": "python",
   "name": "python3"
  },
  "language_info": {
   "codemirror_mode": {
    "name": "ipython",
    "version": 3
   },
   "file_extension": ".py",
   "mimetype": "text/x-python",
   "name": "python",
   "nbconvert_exporter": "python",
   "pygments_lexer": "ipython3",
   "version": "3.6.5"
  }
 },
 "nbformat": 4,
 "nbformat_minor": 2
}
