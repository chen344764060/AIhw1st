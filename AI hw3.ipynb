{
 "cells": [
  {
   "cell_type": "markdown",
   "metadata": {},
   "source": [
    "Theory Questions"
   ]
  },
  {
   "cell_type": "markdown",
   "metadata": {},
   "source": [
    "第一题"
   ]
  },
  {
   "cell_type": "code",
   "execution_count": null,
   "metadata": {},
   "outputs": [],
   "source": []
  },
  {
   "cell_type": "code",
   "execution_count": null,
   "metadata": {},
   "outputs": [],
   "source": []
  },
  {
   "cell_type": "code",
   "execution_count": null,
   "metadata": {},
   "outputs": [],
   "source": []
  },
  {
   "cell_type": "markdown",
   "metadata": {},
   "source": [
    "Programming Excercises"
   ]
  },
  {
   "cell_type": "markdown",
   "metadata": {},
   "source": [
    "第一题"
   ]
  },
  {
   "cell_type": "code",
   "execution_count": 19,
   "metadata": {},
   "outputs": [
    {
     "name": "stdout",
     "output_type": "stream",
     "text": [
      "Guess: 1\n",
      "Smaller\n",
      "Guess: 8\n",
      "Bigger\n",
      "Guess: 5\n",
      "Bigger\n",
      "Guess: 2\n",
      "Smaller\n",
      "Guess: 3\n",
      "Congratuation!\n"
     ]
    }
   ],
   "source": [
    "import random\n",
    "def Guess():\n",
    "    num=input('Guess: ')\n",
    "    return num\n",
    "def Judge(num,answer):\n",
    "    if num<answer:\n",
    "         print('Smaller')\n",
    "         nnum=int(Guess())\n",
    "         Judge(nnum,answer)\n",
    "    if num==answer:\n",
    "         print('Congratulation!')\n",
    "    if num>answer:\n",
    "         print('Bigger')\n",
    "         nnum=int(Guess())\n",
    "         Judge(nnum,answer)\n",
    "\n",
    "answer = random.randint(1,9) \n",
    "num = int(Guess())\n",
    "Judge(num,answer)\n"
   ]
  },
  {
   "cell_type": "markdown",
   "metadata": {},
   "source": [
    "第二题"
   ]
  },
  {
   "cell_type": "code",
   "execution_count": 1,
   "metadata": {},
   "outputs": [
    {
     "name": "stdout",
     "output_type": "stream",
     "text": [
      "721\n",
      "Guess: 700\n",
      "Absolutely right ,error ,error\n",
      "Guess: 127\n",
      "Only the number is correct ,Absolutely right ,Only the number is correct\n",
      "Guess: 721\n",
      "Congratulation\n"
     ]
    }
   ],
   "source": [
    "import random\n",
    "def Guess():\n",
    "    num = input('Guess: ')\n",
    "    return num\n",
    "def Judge(num,answer):\n",
    "    snum = str(num)\n",
    "    sanswer = str(answer)\n",
    "    if snum[0] == sanswer[1] or snum[0] == sanswer[2]:\n",
    "        a = 'Only the number is correct'\n",
    "    if snum[0] == sanswer[0]:\n",
    "        a = 'Absolutely right'\n",
    "    if snum[0] != sanswer[0] and snum[0] != sanswer[1] and snum[0] != sanswer[2]:\n",
    "        a = 'error'\n",
    "    if snum[1] == sanswer[0] or snum[1] == sanswer[2]:\n",
    "        b = 'Only the number is correct'\n",
    "    if snum[1] == sanswer[1]:\n",
    "        b = 'Absolutely right'\n",
    "    if snum[1] != sanswer[0] and snum[1] != sanswer[1] and snum[1] != sanswer[2]:\n",
    "        b = 'error'\n",
    "    if snum[2] == sanswer[1] or snum[2] == sanswer[0]:\n",
    "        c = 'Only the number is correct'\n",
    "    if snum[2] == sanswer[2]:\n",
    "        c = 'Absolutely right'\n",
    "    if snum[2] != sanswer[0] and snum[2] != sanswer[1] and snum[2] != sanswer[2]:\n",
    "        c = 'error'\n",
    "    if a == 'Absolutely right' and a == b and a == c:\n",
    "        return 'Congratulation!'\n",
    "    else:\n",
    "        return a + \" ,\" + b + \" ,\" + c\n",
    "answer = random.randint(100,999)\n",
    "print(answer)\n",
    "num = int(Guess())\n",
    "while(Judge(num, answer) != 'Congratulation!'):\n",
    "    print(Judge(num, answer))\n",
    "    num = int(Guess())\n",
    "print('Congratulation')"
   ]
  },
  {
   "cell_type": "markdown",
   "metadata": {},
   "source": [
    "第三题"
   ]
  },
  {
   "cell_type": "code",
   "execution_count": null,
   "metadata": {},
   "outputs": [],
   "source": [
    "from Tkinter import *\n",
    "top = Tk()\n",
    "grammar1 = ['C', 'python', 'php', 'html', 'SQL', 'java']\n",
    "grammar2 = ['CSS', 'jQuery', 'Bootstrap']\n",
    "list1 = Listbox(top)\n",
    "list2 = Listbox(top)\n",
    "for item in grammar1:\n",
    "    list1.insert(0, item)\n",
    "for item in grammar2:\n",
    "    list2.insert(0, item)\n",
    "\n",
    "list1.pack()\n",
    "list2.pack()\n",
    "top.mainloop()"
   ]
  },
  {
   "cell_type": "markdown",
   "metadata": {},
   "source": [
    "第四题"
   ]
  },
  {
   "cell_type": "code",
   "execution_count": null,
   "metadata": {},
   "outputs": [],
   "source": [
    "import tkinter  ##网上搬的\n",
    "\n",
    "root  = tkinter.Tk()\n",
    "root.minsize(280,500)\n",
    "root.title('machine')\n",
    "result = tkinter.StringVar()\n",
    "result.set(0)\n",
    "result2 = tkinter.StringVar()\n",
    "result2.set('')\n",
    "label = tkinter.Label(root,bg = '#EEE9E9',bd ='9',fg = '#828282',anchor = 'se',textvariable = result2)\n",
    "label.place(width = 280,height = 170)\n",
    "label2 = tkinter.Label(root,bg = '#EEE9E9',bd ='9',fg = 'black',anchor = 'se',textvariable = result)\n",
    "label2.place(y = 170,width = 280,height = 60)\n",
    "btn7 = tkinter.Button(root,text = '7',fg = ('#4F4F4F'),bd = 0.5,command = lambda : pressNum('7'))\n",
    "btn7.place(x = 0,y = 285,width = 70,height = 55)\n",
    "btn8 = tkinter.Button(root,text = '8',fg = ('#4F4F4F'),bd = 0.5,command = lambda : pressNum('8'))\n",
    "btn8.place(x = 70,y = 285,width = 70,height = 55)\n",
    "btn9 = tkinter.Button(root,text = '9',fg = ('#4F4F4F'),bd = 0.5,command = lambda : pressNum('9'))\n",
    "btn9.place(x = 140,y = 285,width = 70,height = 55)\n",
    "\n",
    "btn4 = tkinter.Button(root,text = '4',fg = ('#4F4F4F'),bd = 0.5,command = lambda : pressNum('4'))\n",
    "btn4.place(x = 0,y = 340,width = 70,height = 55)\n",
    "btn5 = tkinter.Button(root,text = '5',fg = ('#4F4F4F'),bd = 0.5,command = lambda : pressNum('5'))\n",
    "btn5.place(x = 70,y = 340,width = 70,height = 55)\n",
    "btn6 = tkinter.Button(root,text = '6',fg = ('#4F4F4F'),bd = 0.5,command = lambda : pressNum('6'))\n",
    "btn6.place(x = 140,y = 340,width = 70,height = 55)\n",
    "\n",
    "btn1 = tkinter.Button(root,text = '1',fg = ('#4F4F4F'),bd = 0.5,command = lambda : pressNum('1'))\n",
    "btn1.place(x = 0,y = 395,width = 70,height = 55)\n",
    "btn2 = tkinter.Button(root,text = '2',fg = ('#4F4F4F'),bd = 0.5,command = lambda : pressNum('2'))\n",
    "btn2.place(x = 70,y = 395,width = 70,height = 55)\n",
    "btn3 = tkinter.Button(root,text = '3',fg = ('#4F4F4F'),bd = 0.5,command = lambda : pressNum('3'))\n",
    "btn3.place(x = 140,y = 395,width = 70,height = 55)\n",
    "btn0 = tkinter.Button(root,text = '0',fg = ('#4F4F4F'),bd = 0.5,command = lambda : pressNum('0'))\n",
    "btn0.place(x = 70,y = 450,width = 70,height = 55)\n",
    "btnac = tkinter.Button(root,text = 'AC',bd = 0.5,fg = 'orange',command = lambda :pressCompute('AC'))\n",
    "btnac.place(x = 0,y = 230,width = 70,height = 55)\n",
    "btnback = tkinter.Button(root,text = 'del',fg = '#4F4F4F',bd = 0.5,command = lambda:pressCompute('b'))\n",
    "btnback.place(x = 70,y = 230,width = 70,height = 55)\n",
    "btndivi = tkinter.Button(root,text = '/',fg = '#4F4F4F',bd = 0.5,command = lambda:pressCompute('/'))\n",
    "btndivi.place(x = 140,y = 230,width = 70,height = 55)\n",
    "btnmul = tkinter.Button(root,text ='*',fg = \"#4F4F4F\",bd = 0.5,command = lambda:pressCompute('*'))\n",
    "btnmul.place(x = 210,y = 230,width = 70,height = 55)\n",
    "btnsub = tkinter.Button(root,text = '-',fg = ('#4F4F4F'),bd = 0.5,command = lambda:pressCompute('-'))\n",
    "btnsub.place(x = 210,y = 285,width = 70,height = 55)\n",
    "btnadd = tkinter.Button(root,text = '+',fg = ('#4F4F4F'),bd = 0.5,command = lambda:pressCompute('+'))\n",
    "btnadd.place(x = 210,y = 340,width = 70,height = 55)\n",
    "btnequ = tkinter.Button(root,text = '=',bg = 'orange',fg = ('#4F4F4F'),bd = 0.5,command = lambda :pressEqual())\n",
    "btnequ.place(x = 210,y = 395,width = 70,height = 110)\n",
    "btnper = tkinter.Button(root,text = '%',fg = ('#4F4F4F'),bd = 0.5,command = lambda:pressCompute('%'))\n",
    "btnper.place(x = 0,y = 450,width = 70,height = 55)\n",
    "btnpoint = tkinter.Button(root,text = '.',fg = ('#4F4F4F'),bd = 0.5,command = lambda:pressCompute('.'))\n",
    "btnpoint.place(x = 140,y = 450,width = 70,height = 55)\n",
    "lists = []\n",
    "isPressSign = False\n",
    "isPressNum = False\n",
    "def pressNum(num):\n",
    "    global lists\n",
    "    global isPressSign\n",
    "    if isPressSign == False:\n",
    "        pass\n",
    "    else:\n",
    "        result.set(0)\n",
    "        isPressSign = False\n",
    "    oldnum = result.get()\n",
    "    if oldnum =='0':\n",
    "        result.set(num)\n",
    "    else:\n",
    "        newnum = oldnum + num\n",
    "        result.set(newnum)\n",
    "def pressCompute(sign):\n",
    "    global lists\n",
    "    global isPressSign\n",
    "    num = result.get()\n",
    "    lists.append(num)\n",
    "\n",
    "    lists.append(sign)\n",
    "    isPressSign = True\n",
    "\n",
    "    if sign =='AC':\n",
    "        lists.clear()\n",
    "        result.set(0)\n",
    "    if sign =='b':\n",
    "        a = num[0:-1]\n",
    "        lists.clear()\n",
    "        result.set(a)\n",
    "def pressEqual():\n",
    "    global lists\n",
    "    global isPressSign\n",
    "    curnum = result.get()\n",
    "    lists.append(curnum)\n",
    "    computrStr = ''.join(lists)\n",
    "    endNum = eval(computrStr)\n",
    "#    a = str(endNum)\n",
    "#   b = '='+a\n",
    "#   c = b[0:10]\n",
    "    result.set(endNum)\n",
    "    result2.set(computrStr)\n",
    "    lists.clear()\n",
    "root.mainloop()"
   ]
  },
  {
   "cell_type": "markdown",
   "metadata": {},
   "source": [
    "第五题"
   ]
  },
  {
   "cell_type": "code",
   "execution_count": null,
   "metadata": {},
   "outputs": [],
   "source": [
    "from tkinter import *\n",
    "import matplotlib\n",
    "import random\n",
    "import time\n",
    "class Ball:\n",
    "  def __init__(self, canvas, paddle, color):\n",
    "    self.canvas = canvas\n",
    "    self.paddle = paddle\n",
    "    self.id = canvas.create_oval(10, 10, 25, 25, fill=color)\n",
    "    self.canvas.move(self.id, 245, 100)\n",
    "    startx = [-3, -2, -1, 1, 2, 3]\n",
    "    random.shuffle(startx)\n",
    "    self.x = startx[0]\n",
    "    self.y = -3\n",
    "    self.canvas_height = self.canvas.winfo_height()\n",
    "    self.canvas_width = self.canvas.winfo_width()\n",
    "    self.hit_bottom = False\n",
    "  def draw(self):\n",
    "    self.canvas.move(self.id, self.x, self.y)\n",
    "    pos = self.canvas.coords(self.id)\n",
    "    if (pos[1] <= 0 or self.hit_paddle(pos) == True):\n",
    "      self.y = -self.y\n",
    "    if (pos[0] <= 0 or pos[2] >= self.canvas_width):\n",
    "      self.x = -self.x\n",
    "    if (pos[3] >= self.canvas_height):\n",
    "      self.hit_bottom = True\n",
    "  def hit_paddle(self, pos):\n",
    "    paddle_pos = self.canvas.coords(self.paddle.id)\n",
    "    if (pos[2] >= paddle_pos[0] and pos[0] <= paddle_pos[2]):\n",
    "      if (pos[3] >= paddle_pos[1] and pos[3] <= paddle_pos[3]):\n",
    "        return True\n",
    "    return False\n",
    "class Paddle:\n",
    "  def __init__(self, canvas, color):\n",
    "    self.canvas = canvas\n",
    "    self.id = canvas.create_rectangle(0, 0, 100, 10, fill=color)\n",
    "    self.x = 0\n",
    "    self.canvas.move(self.id, 200, 300)\n",
    "    self.canvas_width = self.canvas.winfo_width()\n",
    "    self.canvas.bind_all(\"<Key-Left>\", self.turn_left)\n",
    "    self.canvas.bind_all(\"<Key-Right>\", self.turn_right)\n",
    "  def draw(self):\n",
    "    pos = self.canvas.coords(self.id)\n",
    "    if (pos[0] + self.x >= 0 and pos[2] + self.x <= self.canvas_width):\n",
    "      self.canvas.move(self.id, self.x, 0)\n",
    "tk = Tk()\n",
    "tk.title(\"Game\")\n",
    "tk.resizable(0, 0)\n",
    "tk.wm_attributes(\"-topmost\", 1)\n",
    "canvas = Canvas(tk, width = 500, height = 500, bd = 0, highlightthickness = 0)\n",
    "canvas.pack()\n",
    "tk.update()\n",
    "paddle = Paddle(canvas, 'blue')\n",
    "ball = Ball(canvas, paddle, 'red')\n",
    "while 1:\n",
    "  if ball.hit_bottom == False:\n",
    "    ball.draw()\n",
    "    paddle.draw()\n",
    "tk.update_idletasks()\n",
    "tk.update()\n",
    "time.sleep(0.01)\n",
    "\n",
    "\n"
   ]
  }
 ],
 "metadata": {
  "kernelspec": {
   "display_name": "Python 3",
   "language": "python",
   "name": "python3"
  },
  "language_info": {
   "codemirror_mode": {
    "name": "ipython",
    "version": 3
   },
   "file_extension": ".py",
   "mimetype": "text/x-python",
   "name": "python",
   "nbconvert_exporter": "python",
   "pygments_lexer": "ipython3",
   "version": "3.6.5"
  }
 },
 "nbformat": 4,
 "nbformat_minor": 2
}
