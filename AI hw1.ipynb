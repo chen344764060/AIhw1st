{
 "cells": [
  {
   "cell_type": "markdown",
   "metadata": {},
   "source": [
    "第一题:"
   ]
  },
  {
   "cell_type": "code",
   "execution_count": 3,
   "metadata": {},
   "outputs": [],
   "source": [
    "fruits = [\"apple\",\"pear\",\"orange\",\"pinapple\",\"mandarin\"]"
   ]
  },
  {
   "cell_type": "markdown",
   "metadata": {},
   "source": [
    "第二题"
   ]
  },
  {
   "cell_type": "code",
   "execution_count": 4,
   "metadata": {},
   "outputs": [
    {
     "name": "stdout",
     "output_type": "stream",
     "text": [
      "I found it.\n"
     ]
    }
   ],
   "source": [
    "for i in range(len(fruits)):\n",
    "    if fruits[i]==\"apple\":\n",
    "        print (\"I found it.\")"
   ]
  },
  {
   "cell_type": "markdown",
   "metadata": {},
   "source": [
    "第三题"
   ]
  },
  {
   "cell_type": "code",
   "execution_count": 6,
   "metadata": {},
   "outputs": [],
   "source": [
    "fruits.append(\"bannan\")\n",
    "fruits.append(\"kiwi\")"
   ]
  },
  {
   "cell_type": "markdown",
   "metadata": {},
   "source": [
    "第四题"
   ]
  },
  {
   "cell_type": "code",
   "execution_count": 10,
   "metadata": {},
   "outputs": [
    {
     "name": "stdout",
     "output_type": "stream",
     "text": [
      "apple has 5 letters.\n",
      "pear has 4 letters.\n",
      "orange has 6 letters.\n",
      "pinapple has 8 letters.\n",
      "mandarin has 8 letters.\n",
      "bannan has 6 letters.\n",
      "kiwi has 4 letters.\n",
      "bannan has 6 letters.\n",
      "kiwi has 4 letters.\n"
     ]
    }
   ],
   "source": [
    "for i in range(len(fruits)):\n",
    "    print(str(fruits[i])+\" has \"+str(len(fruits[i]))+\" letters.\")"
   ]
  },
  {
   "cell_type": "markdown",
   "metadata": {},
   "source": [
    "第五题"
   ]
  },
  {
   "cell_type": "code",
   "execution_count": 12,
   "metadata": {},
   "outputs": [],
   "source": [
    "def half_squared(list):\n",
    "    for i in range(len(list)):\n",
    "        list[i] = (list[i]**2)/2\n",
    "        print(list[i])"
   ]
  },
  {
   "cell_type": "code",
   "execution_count": 13,
   "metadata": {},
   "outputs": [
    {
     "name": "stdout",
     "output_type": "stream",
     "text": [
      "4.5\n",
      "4.5\n"
     ]
    }
   ],
   "source": [
    "half_squared([3,3])"
   ]
  },
  {
   "cell_type": "markdown",
   "metadata": {},
   "source": [
    "第六题"
   ]
  },
  {
   "cell_type": "code",
   "execution_count": 40,
   "metadata": {},
   "outputs": [],
   "source": [
    "def AA(num):\n",
    "        A = num\n",
    "        A = 99\n",
    "        return A\n",
    "def BB(num):\n",
    "        B = num\n",
    "        return B\n",
    "def CC(num):\n",
    "        C = num\n",
    "        return C"
   ]
  },
  {
   "cell_type": "code",
   "execution_count": 52,
   "metadata": {},
   "outputs": [
    {
     "name": "stdout",
     "output_type": "stream",
     "text": [
      "input first number: 99\n",
      "input second number: 66\n",
      "input third number: 33\n"
     ]
    }
   ],
   "source": [
    "a = int(input(\"input first number: \"))\n",
    "b = int(input(\"input second number: \"))\n",
    "c = int(input(\"input third number: \"))\n",
    "number=[]\n",
    "A=[]\n",
    "B=[]\n",
    "C=[]\n",
    "number.append(a)\n",
    "number.append(b)\n",
    "number.append(c)\n",
    "for i in range(len(number)):\n",
    "    if (number[i]>=90):\n",
    "        A.append(number[i])\n",
    "    if (number[i]<90 and number[i]>=60):\n",
    "        B.append(number[i])\n",
    "    if (number[i]<60):\n",
    "        C.append(number[i])\n",
    "    if (number[i]>100 or number[i]<0):\n",
    "        print(\"error\")"
   ]
  },
  {
   "cell_type": "code",
   "execution_count": 53,
   "metadata": {},
   "outputs": [
    {
     "name": "stdout",
     "output_type": "stream",
     "text": [
      "99 , 66 , 33\n"
     ]
    }
   ],
   "source": [
    "for i in range(len(A)):\n",
    "    print(str(A[i])+\" , \"+str(B[i])+\" , \"+str(C[i]))"
   ]
  },
  {
   "cell_type": "markdown",
   "metadata": {},
   "source": [
    "第七题"
   ]
  },
  {
   "cell_type": "code",
   "execution_count": 57,
   "metadata": {},
   "outputs": [],
   "source": [
    "def sort(a,b,c):\n",
    "    if (b>a):\n",
    "        a,b=b,a\n",
    "    if (c>b):\n",
    "        b,c=c,b\n",
    "    if (b>a):\n",
    "        a,b=b,a  \n",
    "    return a,b,c"
   ]
  },
  {
   "cell_type": "code",
   "execution_count": 58,
   "metadata": {},
   "outputs": [
    {
     "data": {
      "text/plain": [
       "(30, 20, 10)"
      ]
     },
     "execution_count": 58,
     "metadata": {},
     "output_type": "execute_result"
    }
   ],
   "source": [
    "sort(10,20,30)"
   ]
  },
  {
   "cell_type": "markdown",
   "metadata": {},
   "source": [
    "第八题"
   ]
  },
  {
   "cell_type": "code",
   "execution_count": 59,
   "metadata": {},
   "outputs": [],
   "source": [
    "list1 = [1,2,3]\n",
    "list2 = [4,5,6]\n",
    "array = [list1,list2]"
   ]
  },
  {
   "cell_type": "code",
   "execution_count": 61,
   "metadata": {},
   "outputs": [
    {
     "name": "stdout",
     "output_type": "stream",
     "text": [
      "123456"
     ]
    }
   ],
   "source": [
    "for i in range(len(array)):\n",
    "    for j in range(len(array[i])):\n",
    "        print(array[i][j],end=\"\")"
   ]
  },
  {
   "cell_type": "markdown",
   "metadata": {},
   "source": [
    "第九题"
   ]
  },
  {
   "cell_type": "code",
   "execution_count": 86,
   "metadata": {},
   "outputs": [],
   "source": [
    "def f(x):\n",
    "    return x**3"
   ]
  },
  {
   "cell_type": "code",
   "execution_count": 104,
   "metadata": {},
   "outputs": [
    {
     "name": "stdout",
     "output_type": "stream",
     "text": [
      "0\n",
      "1\n",
      "8\n",
      "17\n",
      "18\n",
      "26\n",
      "27\n"
     ]
    }
   ],
   "source": [
    "a=[]\n",
    "for i in range(0,101):\n",
    "    a.append(i)\n",
    "for i in map(f,a):\n",
    "    x=0\n",
    "    for j in range(len(str(i))):\n",
    "        x=x+int(str(i)[j])\n",
    "    if(x**3==i):\n",
    "        print(x)"
   ]
  },
  {
   "cell_type": "markdown",
   "metadata": {},
   "source": [
    "第十题"
   ]
  },
  {
   "cell_type": "code",
   "execution_count": 105,
   "metadata": {},
   "outputs": [
    {
     "name": "stdout",
     "output_type": "stream",
     "text": [
      "11 8\n",
      "8 11\n"
     ]
    }
   ],
   "source": [
    "import random\n",
    "x = random.randint(0,11)\n",
    "y = random.randint(0,11)\n",
    "print(x,y)\n",
    "x,y=y,x\n",
    "print(x,y)"
   ]
  },
  {
   "cell_type": "markdown",
   "metadata": {},
   "source": [
    "第十一题"
   ]
  },
  {
   "cell_type": "code",
   "execution_count": 129,
   "metadata": {},
   "outputs": [
    {
     "name": "stdout",
     "output_type": "stream",
     "text": [
      "   *   \n",
      "  ***  \n",
      " ***** \n",
      "*******\n",
      " ***** \n",
      "  ***  \n",
      "   *   \n"
     ]
    }
   ],
   "source": [
    "s = '*'\n",
    "for i in range(1, 8, 2):\n",
    "    print((s*i).center(7))\n",
    "for i in reversed(range(1, 6, 2)):\n",
    "    print((s*i).center(7))"
   ]
  },
  {
   "cell_type": "markdown",
   "metadata": {},
   "source": [
    "第十二题"
   ]
  },
  {
   "cell_type": "code",
   "execution_count": 146,
   "metadata": {},
   "outputs": [
    {
     "name": "stdout",
     "output_type": "stream",
     "text": [
      "      \n",
      "     1\n",
      "    12\n",
      "   123\n",
      "  1234\n",
      " 12345\n"
     ]
    }
   ],
   "source": [
    "for i in range(1,7):\n",
    "    a[i]=[]\n",
    "    for j in range(1,7):\n",
    "        if(7-j <i):\n",
    "            a[i].append(7-j)\n",
    "    for k in range(1,7):\n",
    "        if(7-k >=i):\n",
    "            print(\" \",end=\"\")\n",
    "        else:\n",
    "            print(a[i][6-k],end=\"\")\n",
    "    print()"
   ]
  },
  {
   "cell_type": "markdown",
   "metadata": {},
   "source": [
    "第十三题"
   ]
  },
  {
   "cell_type": "code",
   "execution_count": 141,
   "metadata": {},
   "outputs": [
    {
     "name": "stdout",
     "output_type": "stream",
     "text": [
      "Charles Martina Michael Florence Eli "
     ]
    }
   ],
   "source": [
    "players = ['charles','martina','michael','florence','eli']\n",
    "for i in range(len(players)):\n",
    "    print(players[i].title()+\" \",end=\"\")"
   ]
  }
 ],
 "metadata": {
  "kernelspec": {
   "display_name": "Python 3",
   "language": "python",
   "name": "python3"
  },
  "language_info": {
   "codemirror_mode": {
    "name": "ipython",
    "version": 3
   },
   "file_extension": ".py",
   "mimetype": "text/x-python",
   "name": "python",
   "nbconvert_exporter": "python",
   "pygments_lexer": "ipython3",
   "version": "3.6.5"
  }
 },
 "nbformat": 4,
 "nbformat_minor": 2
}
